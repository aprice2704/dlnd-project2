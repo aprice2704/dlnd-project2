{
 "cells": [
  {
   "cell_type": "markdown",
   "metadata": {
    "collapsed": true,
    "deletable": true,
    "editable": true
   },
   "source": [
    "# Image Classification\n",
    "In this project, you'll classify images from the [CIFAR-10 dataset](https://www.cs.toronto.edu/~kriz/cifar.html).  The dataset consists of airplanes, dogs, cats, and other objects. You'll preprocess the images, then train a convolutional neural network on all the samples. The images need to be normalized and the labels need to be one-hot encoded.  You'll get to apply what you learned and build a convolutional, max pooling, dropout, and fully connected layers.  At the end, you'll get to see your neural network's predictions on the sample images.\n",
    "## Get the Data\n",
    "Run the following cell to download the [CIFAR-10 dataset for python](https://www.cs.toronto.edu/~kriz/cifar-10-python.tar.gz)."
   ]
  },
  {
   "cell_type": "code",
   "execution_count": 1,
   "metadata": {
    "collapsed": false,
    "deletable": true,
    "editable": true
   },
   "outputs": [
    {
     "name": "stderr",
     "output_type": "stream",
     "text": [
      "CIFAR-10 Dataset: 171MB [00:51, 3.28MB/s]                              \n"
     ]
    },
    {
     "name": "stdout",
     "output_type": "stream",
     "text": [
      "All files found!\n"
     ]
    }
   ],
   "source": [
    "\"\"\"\n",
    "DON'T MODIFY ANYTHING IN THIS CELL THAT IS BELOW THIS LINE\n",
    "\"\"\"\n",
    "from urllib.request import urlretrieve\n",
    "from os.path import isfile, isdir\n",
    "from tqdm import tqdm\n",
    "import problem_unittests as tests\n",
    "import tarfile\n",
    "\n",
    "cifar10_dataset_folder_path = 'cifar-10-batches-py'\n",
    "\n",
    "class DLProgress(tqdm):\n",
    "    last_block = 0\n",
    "\n",
    "    def hook(self, block_num=1, block_size=1, total_size=None):\n",
    "        self.total = total_size\n",
    "        self.update((block_num - self.last_block) * block_size)\n",
    "        self.last_block = block_num\n",
    "\n",
    "if not isfile('cifar-10-python.tar.gz'):\n",
    "    with DLProgress(unit='B', unit_scale=True, miniters=1, desc='CIFAR-10 Dataset') as pbar:\n",
    "        urlretrieve(\n",
    "            'https://www.cs.toronto.edu/~kriz/cifar-10-python.tar.gz',\n",
    "            'cifar-10-python.tar.gz',\n",
    "            pbar.hook)\n",
    "\n",
    "if not isdir(cifar10_dataset_folder_path):\n",
    "    with tarfile.open('cifar-10-python.tar.gz') as tar:\n",
    "        tar.extractall()\n",
    "        tar.close()\n",
    "\n",
    "\n",
    "tests.test_folder_path(cifar10_dataset_folder_path)"
   ]
  },
  {
   "cell_type": "markdown",
   "metadata": {
    "deletable": true,
    "editable": true
   },
   "source": [
    "## Explore the Data\n",
    "The dataset is broken into batches to prevent your machine from running out of memory.  The CIFAR-10 dataset consists of 5 batches, named `data_batch_1`, `data_batch_2`, etc.. Each batch contains the labels and images that are one of the following:\n",
    "* airplane\n",
    "* automobile\n",
    "* bird\n",
    "* cat\n",
    "* deer\n",
    "* dog\n",
    "* frog\n",
    "* horse\n",
    "* ship\n",
    "* truck\n",
    "\n",
    "Understanding a dataset is part of making predictions on the data.  Play around with the code cell below by changing the `batch_id` and `sample_id`. The `batch_id` is the id for a batch (1-5). The `sample_id` is the id for a image and label pair in the batch.\n",
    "\n",
    "Ask yourself \"What are all possible labels?\", \"What is the range of values for the image data?\", \"Are the labels in order or random?\".  Answers to questions like these will help you preprocess the data and end up with better predictions."
   ]
  },
  {
   "cell_type": "code",
   "execution_count": 2,
   "metadata": {
    "collapsed": false,
    "deletable": true,
    "editable": true
   },
   "outputs": [
    {
     "name": "stdout",
     "output_type": "stream",
     "text": [
      "\n",
      "Stats of batch 3:\n",
      "Samples: 10000\n",
      "Label Counts: {0: 994, 1: 1042, 2: 965, 3: 997, 4: 990, 5: 1029, 6: 978, 7: 1015, 8: 961, 9: 1029}\n",
      "First 20 Labels: [8, 5, 0, 6, 9, 2, 8, 3, 6, 2, 7, 4, 6, 9, 0, 0, 7, 3, 7, 2]\n",
      "\n",
      "Example of Image 1357:\n",
      "Image - Min Value: 12 Max Value: 220\n",
      "Image - Shape: (32, 32, 3)\n",
      "Label - Label Id: 6 Name: frog\n"
     ]
    },
    {
     "data": {
      "image/png": "[encoded data removed]",
      "text/plain": [
       "<matplotlib.figure.Figure at 0x7f3fec64cda0>"
      ]
     },
     "metadata": {
      "image/png": {
       "height": 250,
       "width": 253
      }
     },
     "output_type": "display_data"
    }
   ],
   "source": [
    "%matplotlib inline\n",
    "%config InlineBackend.figure_format = 'retina'\n",
    "\n",
    "import helper\n",
    "import numpy as np\n",
    "\n",
    "# Explore the dataset\n",
    "batch_id = 3\n",
    "sample_id = 1357\n",
    "helper.display_stats(cifar10_dataset_folder_path, batch_id, sample_id)"
   ]
  },
  {
   "cell_type": "markdown",
   "metadata": {
    "deletable": true,
    "editable": true
   },
   "source": [
    "## Implement Preprocess Functions\n",
    "### Normalize\n",
    "In the cell below, implement the `normalize` function to take in image data, `x`, and return it as a normalized Numpy array. The values should be in the range of 0 to 1, inclusive.  The return object should be the same shape as `x`."
   ]
  },
  {
   "cell_type": "code",
   "execution_count": 3,
   "metadata": {
    "collapsed": false,
    "deletable": true,
    "editable": true
   },
   "outputs": [
    {
     "name": "stdout",
     "output_type": "stream",
     "text": [
      "Tests Passed\n"
     ]
    }
   ],
   "source": [
    "def normalize(x):\n",
    "    \"\"\"\n",
    "    Normalize a list of sample image data in the range of 0 to 1\n",
    "    : x: List of image data.  The image shape is (32, 32, 3)\n",
    "    : return: Numpy array of normalize data\n",
    "    \"\"\"\n",
    "    # TODO: Implement Function\n",
    "    return np.array((x) / 255)\n",
    "\n",
    "\n",
    "\"\"\"\n",
    "DON'T MODIFY ANYTHING IN THIS CELL THAT IS BELOW THIS LINE\n",
    "\"\"\"\n",
    "tests.test_normalize(normalize)"
   ]
  },
  {
   "cell_type": "markdown",
   "metadata": {
    "deletable": true,
    "editable": true
   },
   "source": [
    "### One-hot encode\n",
    "Just like the previous code cell, you'll be implementing a function for preprocessing.  This time, you'll implement the `one_hot_encode` function. The input, `x`, are a list of labels.  Implement the function to return the list of labels as One-Hot encoded Numpy array.  The possible values for labels are 0 to 9. The one-hot encoding function should return the same encoding for each value between each call to `one_hot_encode`.  Make sure to save the map of encodings outside the function.\n",
    "\n",
    "Hint: Don't reinvent the wheel."
   ]
  },
  {
   "cell_type": "code",
   "execution_count": 4,
   "metadata": {
    "collapsed": false,
    "deletable": true,
    "editable": true
   },
   "outputs": [
    {
     "name": "stdout",
     "output_type": "stream",
     "text": [
      "Tests Passed\n"
     ]
    }
   ],
   "source": [
    "def one_hot_encode(x):\n",
    "    \"\"\"\n",
    "    One hot encode a list of sample labels. Return a one-hot encoded vector for each label.\n",
    "    : x: List of sample Labels\n",
    "    : return: Numpy array of one-hot encoded labels\n",
    "    \"\"\"\n",
    "    # TODO: Implement Function\n",
    "    ohot = np.zeros((len(x), 10))\n",
    "    for i, j in enumerate(x):\n",
    "        ohot[i, j] = 1\n",
    "    return ohot\n",
    "\n",
    "\n",
    "\"\"\"\n",
    "DON'T MODIFY ANYTHING IN THIS CELL THAT IS BELOW THIS LINE\n",
    "\"\"\"\n",
    "tests.test_one_hot_encode(one_hot_encode)"
   ]
  },
  {
   "cell_type": "markdown",
   "metadata": {
    "deletable": true,
    "editable": true
   },
   "source": [
    "### Randomize Data\n",
    "As you saw from exploring the data above, the order of the samples are randomized.  It doesn't hurt to randomize it again, but you don't need to for this dataset."
   ]
  },
  {
   "cell_type": "markdown",
   "metadata": {
    "deletable": true,
    "editable": true
   },
   "source": [
    "## Preprocess all the data and save it\n",
    "Running the code cell below will preprocess all the CIFAR-10 data and save it to file. The code below also uses 10% of the training data for validation."
   ]
  },
  {
   "cell_type": "code",
   "execution_count": 5,
   "metadata": {
    "collapsed": false,
    "deletable": true,
    "editable": true
   },
   "outputs": [],
   "source": [
    "\"\"\"\n",
    "DON'T MODIFY ANYTHING IN THIS CELL\n",
    "\"\"\"\n",
    "# Preprocess Training, Validation, and Testing Data\n",
    "helper.preprocess_and_save_data(cifar10_dataset_folder_path, normalize, one_hot_encode)"
   ]
  },
  {
   "cell_type": "markdown",
   "metadata": {
    "deletable": true,
    "editable": true
   },
   "source": [
    "# Check Point\n",
    "This is your first checkpoint.  If you ever decide to come back to this notebook or have to restart the notebook, you can start from here.  The preprocessed data has been saved to disk."
   ]
  },
  {
   "cell_type": "code",
   "execution_count": 6,
   "metadata": {
    "collapsed": true,
    "deletable": true,
    "editable": true
   },
   "outputs": [],
   "source": [
    "\"\"\"\n",
    "DON'T MODIFY ANYTHING IN THIS CELL\n",
    "\"\"\"\n",
    "import pickle\n",
    "import problem_unittests as tests\n",
    "import helper\n",
    "\n",
    "# Load the Preprocessed Validation data\n",
    "valid_features, valid_labels = pickle.load(open('preprocess_validation.p', mode='rb'))"
   ]
  },
  {
   "cell_type": "markdown",
   "metadata": {
    "deletable": true,
    "editable": true
   },
   "source": [
    "## Build the network\n",
    "For the neural network, you'll build each layer into a function.  Most of the code you've seen has been outside of functions. To test your code more thoroughly, we require that you put each layer in a function.  This allows us to give you better feedback and test for simple mistakes using our unittests before you submit your project.\n",
    "\n",
    ">**Note:** If you're finding it hard to dedicate enough time for this course each week, we've provided a small shortcut to this part of the project. In the next couple of problems, you'll have the option to use classes from the [TensorFlow Layers](https://www.tensorflow.org/api_docs/python/tf/layers) or [TensorFlow Layers (contrib)](https://www.tensorflow.org/api_guides/python/contrib.layers) packages to build each layer, except the layers you build in the \"Convolutional and Max Pooling Layer\" section.  TF Layers is similar to Keras's and TFLearn's abstraction to layers, so it's easy to pickup.\n",
    "\n",
    ">However, if you would like to get the most out of this course, try to solve all the problems _without_ using anything from the TF Layers packages. You **can** still use classes from other packages that happen to have the same name as ones you find in TF Layers! For example, instead of using the TF Layers version of the `conv2d` class, [tf.layers.conv2d](https://www.tensorflow.org/api_docs/python/tf/layers/conv2d), you would want to use the TF Neural Network version of `conv2d`, [tf.nn.conv2d](https://www.tensorflow.org/api_docs/python/tf/nn/conv2d). \n",
    "\n",
    "Let's begin!\n",
    "\n",
    "### Input\n",
    "The neural network needs to read the image data, one-hot encoded labels, and dropout keep probability. Implement the following functions\n",
    "* Implement `neural_net_image_input`\n",
    " * Return a [TF Placeholder](https://www.tensorflow.org/api_docs/python/tf/placeholder)\n",
    " * Set the shape using `image_shape` with batch size set to `None`.\n",
    " * Name the TensorFlow placeholder \"x\" using the TensorFlow `name` parameter in the [TF Placeholder](https://www.tensorflow.org/api_docs/python/tf/placeholder).\n",
    "* Implement `neural_net_label_input`\n",
    " * Return a [TF Placeholder](https://www.tensorflow.org/api_docs/python/tf/placeholder)\n",
    " * Set the shape using `n_classes` with batch size set to `None`.\n",
    " * Name the TensorFlow placeholder \"y\" using the TensorFlow `name` parameter in the [TF Placeholder](https://www.tensorflow.org/api_docs/python/tf/placeholder).\n",
    "* Implement `neural_net_keep_prob_input`\n",
    " * Return a [TF Placeholder](https://www.tensorflow.org/api_docs/python/tf/placeholder) for dropout keep probability.\n",
    " * Name the TensorFlow placeholder \"keep_prob\" using the TensorFlow `name` parameter in the [TF Placeholder](https://www.tensorflow.org/api_docs/python/tf/placeholder).\n",
    "\n",
    "These names will be used at the end of the project to load your saved model.\n",
    "\n",
    "Note: `None` for shapes in TensorFlow allow for a dynamic size."
   ]
  },
  {
   "cell_type": "code",
   "execution_count": 7,
   "metadata": {
    "collapsed": false,
    "deletable": true,
    "editable": true
   },
   "outputs": [
    {
     "name": "stdout",
     "output_type": "stream",
     "text": [
      "Image Input Tests Passed.\n",
      "Label Input Tests Passed.\n",
      "Keep Prob Tests Passed.\n"
     ]
    }
   ],
   "source": [
    "import tensorflow as tf\n",
    "\n",
    "def neural_net_image_input(image_shape):\n",
    "    return tf.placeholder(tf.float32, shape=[None, image_shape[0], image_shape[1], image_shape[2]], name=\"x\")\n",
    "\n",
    "def neural_net_label_input(n_classes):\n",
    "    return tf.placeholder(tf.float32, shape=[None,n_classes], name=\"y\")\n",
    "\n",
    "def neural_net_keep_prob_input():\n",
    "    return tf.placeholder(tf.float32, name=\"keep_prob\")\n",
    "\n",
    "\n",
    "\"\"\"\n",
    "DON'T MODIFY ANYTHING IN THIS CELL THAT IS BELOW THIS LINE\n",
    "\"\"\"\n",
    "tf.reset_default_graph()\n",
    "tests.test_nn_image_inputs(neural_net_image_input)\n",
    "tests.test_nn_label_inputs(neural_net_label_input)\n",
    "tests.test_nn_keep_prob_inputs(neural_net_keep_prob_input)"
   ]
  },
  {
   "cell_type": "markdown",
   "metadata": {
    "deletable": true,
    "editable": true
   },
   "source": [
    "### Convolution and Max Pooling Layer\n",
    "Convolution layers have a lot of success with images. For this code cell, you should implement the function `conv2d_maxpool` to apply convolution then max pooling:\n",
    "* Create the weight and bias using `conv_ksize`, `conv_num_outputs` and the shape of `x_tensor`.\n",
    "* Apply a convolution to `x_tensor` using weight and `conv_strides`.\n",
    " * We recommend you use same padding, but you're welcome to use any padding.\n",
    "* Add bias\n",
    "* Add a nonlinear activation to the convolution.\n",
    "* Apply Max Pooling using `pool_ksize` and `pool_strides`.\n",
    " * We recommend you use same padding, but you're welcome to use any padding.\n",
    "\n",
    "**Note:** You **can't** use [TensorFlow Layers](https://www.tensorflow.org/api_docs/python/tf/layers) or [TensorFlow Layers (contrib)](https://www.tensorflow.org/api_guides/python/contrib.layers) for **this** layer, but you can still use TensorFlow's [Neural Network](https://www.tensorflow.org/api_docs/python/tf/nn) package. You may still use the shortcut option for all the **other** layers."
   ]
  },
  {
   "cell_type": "code",
   "execution_count": 8,
   "metadata": {
    "collapsed": false,
    "deletable": true,
    "editable": true
   },
   "outputs": [
    {
     "name": "stdout",
     "output_type": "stream",
     "text": [
      "Tests Passed\n"
     ]
    }
   ],
   "source": [
    "def conv2d_maxpool(x_tensor, conv_num_outputs, conv_ksize, conv_strides, pool_ksize, pool_strides):\n",
    "    \"\"\"\n",
    "    Apply convolution then max pooling to x_tensor\n",
    "    :param x_tensor: TensorFlow Tensor\n",
    "    :param conv_num_outputs: Number of outputs for the convolutional layer\n",
    "    :param conv_ksize: kernal size 2-D Tuple for the convolutional layer\n",
    "    :param conv_strides: Stride 2-D Tuple for convolution\n",
    "    :param pool_ksize: kernal size 2-D Tuple for pool\n",
    "    :param pool_strides: Stride 2-D Tuple for pool\n",
    "    : return: A tensor that represents convolution and max pooling of x_tensor\n",
    "    \"\"\"\n",
    "    \n",
    "    inshape = x_tensor.get_shape().as_list()\n",
    "    cweight = tf.Variable(tf.truncated_normal((conv_ksize[0], conv_ksize[1], int(x_tensor.get_shape()[3]), conv_num_outputs), mean=0.01, stddev=0.1))\n",
    "    # cweight = tf.Variable(tf.truncated_normal([inshape[1], inshape[2], inshape[3], conv_num_outputs], stddev=0.05))\n",
    "    cbias = tf.Variable(tf.zeros([conv_num_outputs]))\n",
    "    t1 = tf.nn.conv2d(x_tensor, cweight, strides=[1, conv_strides[0], conv_strides[1], 1], padding='SAME')\n",
    "    t2 = tf.nn.bias_add(t1, cbias)\n",
    "    t3 = tf.nn.relu(t2)\n",
    "    t4 = tf.nn.max_pool(t3, ksize=[1, pool_ksize[0], pool_ksize[1], 1],\n",
    "                                   strides=[1, pool_strides[0], pool_strides[1], 1], padding='SAME') \n",
    "    return t4\n",
    "    \n",
    "\n",
    "\n",
    "\"\"\"\n",
    "DON'T MODIFY ANYTHING IN THIS CELL THAT IS BELOW THIS LINE\n",
    "\"\"\"\n",
    "tests.test_con_pool(conv2d_maxpool)"
   ]
  },
  {
   "cell_type": "markdown",
   "metadata": {
    "deletable": true,
    "editable": true
   },
   "source": [
    "### Flatten Layer\n",
    "Implement the `flatten` function to change the dimension of `x_tensor` from a 4-D tensor to a 2-D tensor.  The output should be the shape (*Batch Size*, *Flattened Image Size*). Shortcut option: you can use classes from the [TensorFlow Layers](https://www.tensorflow.org/api_docs/python/tf/layers) or [TensorFlow Layers (contrib)](https://www.tensorflow.org/api_guides/python/contrib.layers) packages for this layer. For more of a challenge, only use other TensorFlow packages."
   ]
  },
  {
   "cell_type": "code",
   "execution_count": 9,
   "metadata": {
    "collapsed": false,
    "deletable": true,
    "editable": true
   },
   "outputs": [
    {
     "name": "stdout",
     "output_type": "stream",
     "text": [
      "Tests Passed\n"
     ]
    }
   ],
   "source": [
    "def flatten(x_tensor):\n",
    "    \"\"\"\n",
    "    Flatten x_tensor to (Batch Size, Flattened Image Size)\n",
    "    : x_tensor: A tensor of size (Batch Size, ...), where ... are the image dimensions.\n",
    "    : return: A tensor of size (Batch Size, Flattened Image Size).\n",
    "    \"\"\"\n",
    "    # TODO: Implement Function\n",
    "    return tf.contrib.layers.flatten(x_tensor)\n",
    "\n",
    "\n",
    "\"\"\"\n",
    "DON'T MODIFY ANYTHING IN THIS CELL THAT IS BELOW THIS LINE\n",
    "\"\"\"\n",
    "tests.test_flatten(flatten)"
   ]
  },
  {
   "cell_type": "markdown",
   "metadata": {
    "deletable": true,
    "editable": true
   },
   "source": [
    "### Fully-Connected Layer\n",
    "Implement the `fully_conn` function to apply a fully connected layer to `x_tensor` with the shape (*Batch Size*, *num_outputs*). Shortcut option: you can use classes from the [TensorFlow Layers](https://www.tensorflow.org/api_docs/python/tf/layers) or [TensorFlow Layers (contrib)](https://www.tensorflow.org/api_guides/python/contrib.layers) packages for this layer. For more of a challenge, only use other TensorFlow packages."
   ]
  },
  {
   "cell_type": "code",
   "execution_count": 10,
   "metadata": {
    "collapsed": false,
    "deletable": true,
    "editable": true
   },
   "outputs": [
    {
     "name": "stdout",
     "output_type": "stream",
     "text": [
      "Tests Passed\n"
     ]
    }
   ],
   "source": [
    "def fully_conn(x_tensor, num_outputs):\n",
    "    \"\"\"\n",
    "    Apply a fully connected layer to x_tensor using weight and bias\n",
    "    : x_tensor: A 2-D tensor where the first dimension is batch size.\n",
    "    : num_outputs: The number of output that the new tensor should be.\n",
    "    : return: A 2-D tensor where the second dimension is num_outputs.\n",
    "    \"\"\"\n",
    "    # TODO: Implement Function\n",
    "    return tf.contrib.layers.fully_connected(x_tensor, num_outputs=num_outputs, activation_fn=tf.nn.relu)\n",
    "\n",
    "\n",
    "\"\"\"\n",
    "DON'T MODIFY ANYTHING IN THIS CELL THAT IS BELOW THIS LINE\n",
    "\"\"\"\n",
    "tests.test_fully_conn(fully_conn)"
   ]
  },
  {
   "cell_type": "markdown",
   "metadata": {
    "deletable": true,
    "editable": true
   },
   "source": [
    "### Output Layer\n",
    "Implement the `output` function to apply a fully connected layer to `x_tensor` with the shape (*Batch Size*, *num_outputs*). Shortcut option: you can use classes from the [TensorFlow Layers](https://www.tensorflow.org/api_docs/python/tf/layers) or [TensorFlow Layers (contrib)](https://www.tensorflow.org/api_guides/python/contrib.layers) packages for this layer. For more of a challenge, only use other TensorFlow packages.\n",
    "\n",
    "**Note:** Activation, softmax, or cross entropy should **not** be applied to this."
   ]
  },
  {
   "cell_type": "code",
   "execution_count": 11,
   "metadata": {
    "collapsed": false,
    "deletable": true,
    "editable": true
   },
   "outputs": [
    {
     "name": "stdout",
     "output_type": "stream",
     "text": [
      "Tests Passed\n"
     ]
    }
   ],
   "source": [
    "def output(x_tensor, num_outputs):\n",
    "    \"\"\"\n",
    "    Apply a output layer to x_tensor using weight and bias\n",
    "    : x_tensor: A 2-D tensor where the first dimension is batch size.\n",
    "    : num_outputs: The number of output that the new tensor should be.\n",
    "    : return: A 2-D tensor where the second dimension is num_outputs.\n",
    "    \"\"\"\n",
    "    # TODO: Implement Function\n",
    "    return tf.contrib.layers.fully_connected(x_tensor, num_outputs=num_outputs, activation_fn=None)\n",
    "\n",
    "\n",
    "\"\"\"\n",
    "DON'T MODIFY ANYTHING IN THIS CELL THAT IS BELOW THIS LINE\n",
    "\"\"\"\n",
    "tests.test_output(output)"
   ]
  },
  {
   "cell_type": "markdown",
   "metadata": {
    "deletable": true,
    "editable": true
   },
   "source": [
    "### Create Convolutional Model\n",
    "Implement the function `conv_net` to create a convolutional neural network model. The function takes in a batch of images, `x`, and outputs logits.  Use the layers you created above to create this model:\n",
    "\n",
    "* Apply 1, 2, or 3 Convolution and Max Pool layers\n",
    "* Apply a Flatten Layer\n",
    "* Apply 1, 2, or 3 Fully Connected Layers\n",
    "* Apply an Output Layer\n",
    "* Return the output\n",
    "* Apply [TensorFlow's Dropout](https://www.tensorflow.org/api_docs/python/tf/nn/dropout) to one or more layers in the model using `keep_prob`. "
   ]
  },
  {
   "cell_type": "code",
   "execution_count": 12,
   "metadata": {
    "collapsed": false,
    "deletable": true,
    "editable": true
   },
   "outputs": [
    {
     "name": "stdout",
     "output_type": "stream",
     "text": [
      "Neural Network Built!\n"
     ]
    }
   ],
   "source": [
    "def conv_net(x, keep_prob):\n",
    "    \"\"\"\n",
    "    Create a convolutional neural network model\n",
    "    : x: Placeholder tensor that holds image data.\n",
    "    : keep_prob: Placeholder tensor that hold dropout keep probability.\n",
    "    : return: Tensor that represents logits\n",
    "    \"\"\"\n",
    "    # TODO: Apply 1, 2, or 3 Convolution and Max Pool layers\n",
    "    #    Play around with different number of outputs, kernel size and stride\n",
    "    # Function Definition from Above:\n",
    "    #    conv2d_maxpool(x_tensor, conv_num_outputs, conv_ksize, conv_strides, pool_ksize, pool_strides)\n",
    "    x2 = conv2d_maxpool(x,                      48,     (3,3),        (1,1),      (2,2),        (2,2))\n",
    "    x3 = conv2d_maxpool(x2,                     96,     (3,3),        (1,1),      (1,1),        (1,1))\n",
    "    x4 = conv2d_maxpool(x3,                     192,     (3,3),        (3,3),      (1,1),        (1,1))\n",
    "\n",
    "    # TODO: Apply a Flatten Layer\n",
    "    # Function Definition from Above:\n",
    "    #   flatten(x_tensor)\n",
    "    x5 = flatten(x4)\n",
    "\n",
    "    # TODO: Apply 1, 2, or 3 Fully Connected Layers\n",
    "    #    Play around with different number of outputs\n",
    "    # Function Definition from Above:\n",
    "    #   fully_conn(x_tensor, num_outputs)\n",
    "    x6 = fully_conn(x5, 800)\n",
    "    x6 = tf.nn.dropout(x6, keep_prob )\n",
    "    x7 = fully_conn(x6, 400)\n",
    "    #x7 = tf.nn.dropout(x7, keep_prob )\n",
    "    #x8 = fully_conn(x7, 200)\n",
    "    \n",
    "    # TODO: Apply an Output Layer\n",
    "    #    Set this to the number of classes\n",
    "    # Function Definition from Above:\n",
    "    #   output(x_tensor, num_outputs)\n",
    "    x_out = output(x7, 10)\n",
    "    \n",
    "    # TODO: return output\n",
    "    return x_out\n",
    "\n",
    "\n",
    "\"\"\"\n",
    "DON'T MODIFY ANYTHING IN THIS CELL THAT IS BELOW THIS LINE\n",
    "\"\"\"\n",
    "\n",
    "##############################\n",
    "## Build the Neural Network ##\n",
    "##############################\n",
    "\n",
    "# Remove previous weights, bias, inputs, etc..\n",
    "tf.reset_default_graph()\n",
    "\n",
    "# Inputs\n",
    "x = neural_net_image_input((32, 32, 3))\n",
    "y = neural_net_label_input(10)\n",
    "keep_prob = neural_net_keep_prob_input()\n",
    "\n",
    "# Model\n",
    "logits = conv_net(x, keep_prob)\n",
    "\n",
    "# Name logits Tensor, so that is can be loaded from disk after training\n",
    "logits = tf.identity(logits, name='logits')\n",
    "\n",
    "# Loss and Optimizer\n",
    "cost = tf.reduce_mean(tf.nn.softmax_cross_entropy_with_logits(logits=logits, labels=y))\n",
    "optimizer = tf.train.AdamOptimizer().minimize(cost)\n",
    "\n",
    "# Accuracy\n",
    "correct_pred = tf.equal(tf.argmax(logits, 1), tf.argmax(y, 1))\n",
    "accuracy = tf.reduce_mean(tf.cast(correct_pred, tf.float32), name='accuracy')\n",
    "\n",
    "tests.test_conv_net(conv_net)"
   ]
  },
  {
   "cell_type": "markdown",
   "metadata": {
    "deletable": true,
    "editable": true
   },
   "source": [
    "## Train the Neural Network\n",
    "### Single Optimization\n",
    "Implement the function `train_neural_network` to do a single optimization.  The optimization should use `optimizer` to optimize in `session` with a `feed_dict` of the following:\n",
    "* `x` for image input\n",
    "* `y` for labels\n",
    "* `keep_prob` for keep probability for dropout\n",
    "\n",
    "This function will be called for each batch, so `tf.global_variables_initializer()` has already been called.\n",
    "\n",
    "Note: Nothing needs to be returned. This function is only optimizing the neural network."
   ]
  },
  {
   "cell_type": "code",
   "execution_count": 13,
   "metadata": {
    "collapsed": false,
    "deletable": true,
    "editable": true
   },
   "outputs": [
    {
     "name": "stdout",
     "output_type": "stream",
     "text": [
      "Tests Passed\n"
     ]
    }
   ],
   "source": [
    "def train_neural_network(session, optimizer, keep_probability, feature_batch, label_batch):\n",
    "    \"\"\"\n",
    "    Optimize the session on a batch of images and labels\n",
    "    : session: Current TensorFlow session\n",
    "    : optimizer: TensorFlow optimizer function\n",
    "    : keep_probability: keep probability\n",
    "    : feature_batch: Batch of Numpy image data\n",
    "    : label_batch: Batch of Numpy label data\n",
    "    \"\"\"\n",
    "    # TODO: Implement Function\n",
    "    session.run(optimizer, feed_dict={x: feature_batch, y: label_batch, keep_prob: keep_probability})\n",
    "    return\n",
    "\n",
    "\n",
    "\"\"\"\n",
    "DON'T MODIFY ANYTHING IN THIS CELL THAT IS BELOW THIS LINE\n",
    "\"\"\"\n",
    "tests.test_train_nn(train_neural_network)"
   ]
  },
  {
   "cell_type": "markdown",
   "metadata": {
    "deletable": true,
    "editable": true
   },
   "source": [
    "### Show Stats\n",
    "Implement the function `print_stats` to print loss and validation accuracy.  Use the global variables `valid_features` and `valid_labels` to calculate validation accuracy.  Use a keep probability of `1.0` to calculate the loss and validation accuracy."
   ]
  },
  {
   "cell_type": "code",
   "execution_count": 14,
   "metadata": {
    "collapsed": false,
    "deletable": true,
    "editable": true
   },
   "outputs": [],
   "source": [
    "def print_stats(session, feature_batch, label_batch, cost, accuracy):\n",
    "    \"\"\"\n",
    "    Print information about loss and validation accuracy\n",
    "    : session: Current TensorFlow session\n",
    "    : feature_batch: Batch of Numpy image data\n",
    "    : label_batch: Batch of Numpy label data\n",
    "    : cost: TensorFlow cost function\n",
    "    : accuracy: TensorFlow accuracy function\n",
    "    \"\"\"\n",
    "    # TODO: Implement Function\n",
    "    loss = session.run(cost, feed_dict={x: feature_batch, y: label_batch, keep_prob: 1.0})\n",
    "    validation_acc = session.run(accuracy, feed_dict={x: valid_features, y: valid_labels, keep_prob: 1.0})\n",
    "    print('Loss is: {:>10.4f} Validation accuracy: {:.6f}'.format(loss, validation_acc))\n",
    "    return"
   ]
  },
  {
   "cell_type": "markdown",
   "metadata": {
    "deletable": true,
    "editable": true
   },
   "source": [
    "### Hyperparameters\n",
    "Tune the following parameters:\n",
    "* Set `epochs` to the number of iterations until the network stops learning or start overfitting\n",
    "* Set `batch_size` to the highest number that your machine has memory for.  Most people set them to common sizes of memory:\n",
    " * 64\n",
    " * 128\n",
    " * 256\n",
    " * ...\n",
    "* Set `keep_probability` to the probability of keeping a node using dropout"
   ]
  },
  {
   "cell_type": "code",
   "execution_count": 16,
   "metadata": {
    "collapsed": true,
    "deletable": true,
    "editable": true
   },
   "outputs": [],
   "source": [
    "# TODO: Tune Parameters\n",
    "epochs = 40\n",
    "batch_size = 768\n",
    "keep_probability = 0.50"
   ]
  },
  {
   "cell_type": "markdown",
   "metadata": {
    "deletable": true,
    "editable": true
   },
   "source": [
    "### Train on a Single CIFAR-10 Batch\n",
    "Instead of training the neural network on all the CIFAR-10 batches of data, let's use a single batch. This should save time while you iterate on the model to get a better accuracy.  Once the final validation accuracy is 50% or greater, run the model on all the data in the next section."
   ]
  },
  {
   "cell_type": "code",
   "execution_count": 17,
   "metadata": {
    "collapsed": false,
    "deletable": true,
    "editable": true
   },
   "outputs": [
    {
     "name": "stdout",
     "output_type": "stream",
     "text": [
      "Checking the Training on a Single Batch...\n",
      "Epoch  1, CIFAR-10 Batch 1:  Loss is:     2.4028 Validation accuracy: 0.115000\n",
      "Epoch  2, CIFAR-10 Batch 1:  Loss is:     2.2789 Validation accuracy: 0.148400\n",
      "Epoch  3, CIFAR-10 Batch 1:  Loss is:     2.2652 Validation accuracy: 0.205400\n",
      "Epoch  4, CIFAR-10 Batch 1:  Loss is:     2.2091 Validation accuracy: 0.185200\n",
      "Epoch  5, CIFAR-10 Batch 1:  Loss is:     2.1210 Validation accuracy: 0.245600\n",
      "Epoch  6, CIFAR-10 Batch 1:  Loss is:     2.0667 Validation accuracy: 0.259000\n",
      "Epoch  7, CIFAR-10 Batch 1:  Loss is:     2.0192 Validation accuracy: 0.271800\n",
      "Epoch  8, CIFAR-10 Batch 1:  Loss is:     1.9535 Validation accuracy: 0.299600\n",
      "Epoch  9, CIFAR-10 Batch 1:  Loss is:     1.8974 Validation accuracy: 0.326600\n",
      "Epoch 10, CIFAR-10 Batch 1:  Loss is:     1.8185 Validation accuracy: 0.344800\n",
      "Epoch 11, CIFAR-10 Batch 1:  Loss is:     1.7773 Validation accuracy: 0.363000\n",
      "Epoch 12, CIFAR-10 Batch 1:  Loss is:     1.7481 Validation accuracy: 0.376400\n",
      "Epoch 13, CIFAR-10 Batch 1:  Loss is:     1.7070 Validation accuracy: 0.384600\n",
      "Epoch 14, CIFAR-10 Batch 1:  Loss is:     1.6495 Validation accuracy: 0.406000\n",
      "Epoch 15, CIFAR-10 Batch 1:  Loss is:     1.6201 Validation accuracy: 0.405800\n",
      "Epoch 16, CIFAR-10 Batch 1:  Loss is:     1.5548 Validation accuracy: 0.427000\n",
      "Epoch 17, CIFAR-10 Batch 1:  Loss is:     1.5137 Validation accuracy: 0.432000\n",
      "Epoch 18, CIFAR-10 Batch 1:  Loss is:     1.4872 Validation accuracy: 0.436800\n",
      "Epoch 19, CIFAR-10 Batch 1:  Loss is:     1.4599 Validation accuracy: 0.435200\n",
      "Epoch 20, CIFAR-10 Batch 1:  Loss is:     1.4327 Validation accuracy: 0.442200\n",
      "Epoch 21, CIFAR-10 Batch 1:  Loss is:     1.3830 Validation accuracy: 0.452200\n",
      "Epoch 22, CIFAR-10 Batch 1:  Loss is:     1.3364 Validation accuracy: 0.454800\n",
      "Epoch 23, CIFAR-10 Batch 1:  Loss is:     1.2951 Validation accuracy: 0.465800\n",
      "Epoch 24, CIFAR-10 Batch 1:  Loss is:     1.2464 Validation accuracy: 0.471800\n",
      "Epoch 25, CIFAR-10 Batch 1:  Loss is:     1.1859 Validation accuracy: 0.487400\n",
      "Epoch 26, CIFAR-10 Batch 1:  Loss is:     1.1635 Validation accuracy: 0.485200\n",
      "Epoch 27, CIFAR-10 Batch 1:  Loss is:     1.1414 Validation accuracy: 0.491400\n",
      "Epoch 28, CIFAR-10 Batch 1:  Loss is:     1.0859 Validation accuracy: 0.508800\n",
      "Epoch 29, CIFAR-10 Batch 1:  Loss is:     1.0394 Validation accuracy: 0.509200\n",
      "Epoch 30, CIFAR-10 Batch 1:  Loss is:     1.0178 Validation accuracy: 0.515400\n",
      "Epoch 31, CIFAR-10 Batch 1:  Loss is:     0.9749 Validation accuracy: 0.518000\n",
      "Epoch 32, CIFAR-10 Batch 1:  Loss is:     0.9439 Validation accuracy: 0.523200\n",
      "Epoch 33, CIFAR-10 Batch 1:  Loss is:     0.9250 Validation accuracy: 0.512400\n",
      "Epoch 34, CIFAR-10 Batch 1:  Loss is:     0.8637 Validation accuracy: 0.528200\n",
      "Epoch 35, CIFAR-10 Batch 1:  Loss is:     0.8181 Validation accuracy: 0.531200\n",
      "Epoch 36, CIFAR-10 Batch 1:  Loss is:     0.8121 Validation accuracy: 0.528000\n",
      "Epoch 37, CIFAR-10 Batch 1:  Loss is:     0.7841 Validation accuracy: 0.523000\n",
      "Epoch 38, CIFAR-10 Batch 1:  Loss is:     0.7818 Validation accuracy: 0.519200\n",
      "Epoch 39, CIFAR-10 Batch 1:  Loss is:     0.7389 Validation accuracy: 0.533800\n",
      "Epoch 40, CIFAR-10 Batch 1:  Loss is:     0.6977 Validation accuracy: 0.534600\n"
     ]
    }
   ],
   "source": [
    "\"\"\"\n",
    "DON'T MODIFY ANYTHING IN THIS CELL\n",
    "\"\"\"\n",
    "print('Checking the Training on a Single Batch...')\n",
    "with tf.Session() as sess:\n",
    "    # Initializing the variables\n",
    "    sess.run(tf.global_variables_initializer())\n",
    "    \n",
    "    # Training cycle\n",
    "    for epoch in range(epochs):\n",
    "        batch_i = 1\n",
    "        for batch_features, batch_labels in helper.load_preprocess_training_batch(batch_i, batch_size):\n",
    "            train_neural_network(sess, optimizer, keep_probability, batch_features, batch_labels)\n",
    "        print('Epoch {:>2}, CIFAR-10 Batch {}:  '.format(epoch + 1, batch_i), end='')\n",
    "        print_stats(sess, batch_features, batch_labels, cost, accuracy)"
   ]
  },
  {
   "cell_type": "markdown",
   "metadata": {
    "deletable": true,
    "editable": true
   },
   "source": [
    "### Fully Train the Model\n",
    "Now that you got a good accuracy with a single CIFAR-10 batch, try it with all five batches."
   ]
  },
  {
   "cell_type": "code",
   "execution_count": 18,
   "metadata": {
    "collapsed": false,
    "deletable": true,
    "editable": true
   },
   "outputs": [
    {
     "name": "stdout",
     "output_type": "stream",
     "text": [
      "Training...\n",
      "Epoch  1, CIFAR-10 Batch 1:  Loss is:     2.4657 Validation accuracy: 0.103000\n",
      "Epoch  1, CIFAR-10 Batch 2:  Loss is:     2.3043 Validation accuracy: 0.105800\n",
      "Epoch  1, CIFAR-10 Batch 3:  Loss is:     2.2477 Validation accuracy: 0.142800\n",
      "Epoch  1, CIFAR-10 Batch 4:  Loss is:     2.1211 Validation accuracy: 0.217800\n",
      "Epoch  1, CIFAR-10 Batch 5:  Loss is:     2.0408 Validation accuracy: 0.251600\n",
      "Epoch  2, CIFAR-10 Batch 1:  Loss is:     2.0132 Validation accuracy: 0.284000\n",
      "Epoch  2, CIFAR-10 Batch 2:  Loss is:     1.9364 Validation accuracy: 0.296200\n",
      "Epoch  2, CIFAR-10 Batch 3:  Loss is:     1.8208 Validation accuracy: 0.330800\n",
      "Epoch  2, CIFAR-10 Batch 4:  Loss is:     1.7846 Validation accuracy: 0.361000\n",
      "Epoch  2, CIFAR-10 Batch 5:  Loss is:     1.7948 Validation accuracy: 0.349800\n",
      "Epoch  3, CIFAR-10 Batch 1:  Loss is:     1.7608 Validation accuracy: 0.382600\n",
      "Epoch  3, CIFAR-10 Batch 2:  Loss is:     1.7250 Validation accuracy: 0.377800\n",
      "Epoch  3, CIFAR-10 Batch 3:  Loss is:     1.6215 Validation accuracy: 0.394600\n",
      "Epoch  3, CIFAR-10 Batch 4:  Loss is:     1.5944 Validation accuracy: 0.406200\n",
      "Epoch  3, CIFAR-10 Batch 5:  Loss is:     1.6396 Validation accuracy: 0.411800\n",
      "Epoch  4, CIFAR-10 Batch 1:  Loss is:     1.6422 Validation accuracy: 0.432200\n",
      "Epoch  4, CIFAR-10 Batch 2:  Loss is:     1.5964 Validation accuracy: 0.414800\n",
      "Epoch  4, CIFAR-10 Batch 3:  Loss is:     1.4892 Validation accuracy: 0.447200\n",
      "Epoch  4, CIFAR-10 Batch 4:  Loss is:     1.4736 Validation accuracy: 0.446800\n",
      "Epoch  4, CIFAR-10 Batch 5:  Loss is:     1.5034 Validation accuracy: 0.460600\n",
      "Epoch  5, CIFAR-10 Batch 1:  Loss is:     1.5195 Validation accuracy: 0.468800\n",
      "Epoch  5, CIFAR-10 Batch 2:  Loss is:     1.4567 Validation accuracy: 0.463800\n",
      "Epoch  5, CIFAR-10 Batch 3:  Loss is:     1.3774 Validation accuracy: 0.459600\n",
      "Epoch  5, CIFAR-10 Batch 4:  Loss is:     1.3597 Validation accuracy: 0.486600\n",
      "Epoch  5, CIFAR-10 Batch 5:  Loss is:     1.4129 Validation accuracy: 0.484200\n",
      "Epoch  6, CIFAR-10 Batch 1:  Loss is:     1.4259 Validation accuracy: 0.489000\n",
      "Epoch  6, CIFAR-10 Batch 2:  Loss is:     1.3861 Validation accuracy: 0.486200\n",
      "Epoch  6, CIFAR-10 Batch 3:  Loss is:     1.2663 Validation accuracy: 0.496400\n",
      "Epoch  6, CIFAR-10 Batch 4:  Loss is:     1.2616 Validation accuracy: 0.515600\n",
      "Epoch  6, CIFAR-10 Batch 5:  Loss is:     1.2931 Validation accuracy: 0.510400\n",
      "Epoch  7, CIFAR-10 Batch 1:  Loss is:     1.3219 Validation accuracy: 0.523600\n",
      "Epoch  7, CIFAR-10 Batch 2:  Loss is:     1.2913 Validation accuracy: 0.501400\n",
      "Epoch  7, CIFAR-10 Batch 3:  Loss is:     1.1758 Validation accuracy: 0.521400\n",
      "Epoch  7, CIFAR-10 Batch 4:  Loss is:     1.2026 Validation accuracy: 0.537800\n",
      "Epoch  7, CIFAR-10 Batch 5:  Loss is:     1.1871 Validation accuracy: 0.536800\n",
      "Epoch  8, CIFAR-10 Batch 1:  Loss is:     1.2524 Validation accuracy: 0.547000\n",
      "Epoch  8, CIFAR-10 Batch 2:  Loss is:     1.2460 Validation accuracy: 0.521200\n",
      "Epoch  8, CIFAR-10 Batch 3:  Loss is:     1.1384 Validation accuracy: 0.520800\n",
      "Epoch  8, CIFAR-10 Batch 4:  Loss is:     1.1049 Validation accuracy: 0.550800\n",
      "Epoch  8, CIFAR-10 Batch 5:  Loss is:     1.1493 Validation accuracy: 0.533800\n",
      "Epoch  9, CIFAR-10 Batch 1:  Loss is:     1.1845 Validation accuracy: 0.559800\n",
      "Epoch  9, CIFAR-10 Batch 2:  Loss is:     1.1572 Validation accuracy: 0.545200\n",
      "Epoch  9, CIFAR-10 Batch 3:  Loss is:     1.0698 Validation accuracy: 0.556600\n",
      "Epoch  9, CIFAR-10 Batch 4:  Loss is:     1.0472 Validation accuracy: 0.568000\n",
      "Epoch  9, CIFAR-10 Batch 5:  Loss is:     1.0857 Validation accuracy: 0.564000\n",
      "Epoch 10, CIFAR-10 Batch 1:  Loss is:     1.1332 Validation accuracy: 0.567400\n",
      "Epoch 10, CIFAR-10 Batch 2:  Loss is:     1.1002 Validation accuracy: 0.561000\n",
      "Epoch 10, CIFAR-10 Batch 3:  Loss is:     0.9981 Validation accuracy: 0.582000\n",
      "Epoch 10, CIFAR-10 Batch 4:  Loss is:     0.9570 Validation accuracy: 0.595800\n",
      "Epoch 10, CIFAR-10 Batch 5:  Loss is:     0.9819 Validation accuracy: 0.583800\n",
      "Epoch 11, CIFAR-10 Batch 1:  Loss is:     1.1220 Validation accuracy: 0.561200\n",
      "Epoch 11, CIFAR-10 Batch 2:  Loss is:     1.0912 Validation accuracy: 0.551200\n",
      "Epoch 11, CIFAR-10 Batch 3:  Loss is:     0.9917 Validation accuracy: 0.579600\n",
      "Epoch 11, CIFAR-10 Batch 4:  Loss is:     0.9250 Validation accuracy: 0.601000\n",
      "Epoch 11, CIFAR-10 Batch 5:  Loss is:     0.9280 Validation accuracy: 0.593400\n",
      "Epoch 12, CIFAR-10 Batch 1:  Loss is:     0.9934 Validation accuracy: 0.600400\n",
      "Epoch 12, CIFAR-10 Batch 2:  Loss is:     1.0174 Validation accuracy: 0.580600\n",
      "Epoch 12, CIFAR-10 Batch 3:  Loss is:     0.9524 Validation accuracy: 0.581400\n",
      "Epoch 12, CIFAR-10 Batch 4:  Loss is:     0.8747 Validation accuracy: 0.607000\n",
      "Epoch 12, CIFAR-10 Batch 5:  Loss is:     0.8932 Validation accuracy: 0.600800\n",
      "Epoch 13, CIFAR-10 Batch 1:  Loss is:     0.9486 Validation accuracy: 0.613400\n",
      "Epoch 13, CIFAR-10 Batch 2:  Loss is:     0.9297 Validation accuracy: 0.605600\n",
      "Epoch 13, CIFAR-10 Batch 3:  Loss is:     0.8878 Validation accuracy: 0.597000\n",
      "Epoch 13, CIFAR-10 Batch 4:  Loss is:     0.8570 Validation accuracy: 0.604800\n",
      "Epoch 13, CIFAR-10 Batch 5:  Loss is:     0.8551 Validation accuracy: 0.608200\n",
      "Epoch 14, CIFAR-10 Batch 1:  Loss is:     0.8905 Validation accuracy: 0.617000\n",
      "Epoch 14, CIFAR-10 Batch 2:  Loss is:     0.9026 Validation accuracy: 0.602200\n",
      "Epoch 14, CIFAR-10 Batch 3:  Loss is:     0.8268 Validation accuracy: 0.618400\n",
      "Epoch 14, CIFAR-10 Batch 4:  Loss is:     0.8189 Validation accuracy: 0.615200\n",
      "Epoch 14, CIFAR-10 Batch 5:  Loss is:     0.7822 Validation accuracy: 0.622600\n",
      "Epoch 15, CIFAR-10 Batch 1:  Loss is:     0.8462 Validation accuracy: 0.624000\n",
      "Epoch 15, CIFAR-10 Batch 2:  Loss is:     0.8077 Validation accuracy: 0.616800\n",
      "Epoch 15, CIFAR-10 Batch 3:  Loss is:     0.7904 Validation accuracy: 0.615600\n",
      "Epoch 15, CIFAR-10 Batch 4:  Loss is:     0.7566 Validation accuracy: 0.627200\n",
      "Epoch 15, CIFAR-10 Batch 5:  Loss is:     0.7367 Validation accuracy: 0.632800\n",
      "Epoch 16, CIFAR-10 Batch 1:  Loss is:     0.8046 Validation accuracy: 0.629400\n",
      "Epoch 16, CIFAR-10 Batch 2:  Loss is:     0.8108 Validation accuracy: 0.612000\n",
      "Epoch 16, CIFAR-10 Batch 3:  Loss is:     0.7792 Validation accuracy: 0.621000\n",
      "Epoch 16, CIFAR-10 Batch 4:  Loss is:     0.7363 Validation accuracy: 0.638800\n",
      "Epoch 16, CIFAR-10 Batch 5:  Loss is:     0.7571 Validation accuracy: 0.613200\n",
      "Epoch 17, CIFAR-10 Batch 1:  Loss is:     0.8341 Validation accuracy: 0.611400\n",
      "Epoch 17, CIFAR-10 Batch 2:  Loss is:     0.7892 Validation accuracy: 0.632200\n",
      "Epoch 17, CIFAR-10 Batch 3:  Loss is:     0.7495 Validation accuracy: 0.630400\n",
      "Epoch 17, CIFAR-10 Batch 4:  Loss is:     0.7164 Validation accuracy: 0.637800\n",
      "Epoch 17, CIFAR-10 Batch 5:  Loss is:     0.6845 Validation accuracy: 0.638600\n",
      "Epoch 18, CIFAR-10 Batch 1:  Loss is:     0.7258 Validation accuracy: 0.637200\n",
      "Epoch 18, CIFAR-10 Batch 2:  Loss is:     0.7269 Validation accuracy: 0.637000\n",
      "Epoch 18, CIFAR-10 Batch 3:  Loss is:     0.7013 Validation accuracy: 0.641600\n",
      "Epoch 18, CIFAR-10 Batch 4:  Loss is:     0.6569 Validation accuracy: 0.644600\n",
      "Epoch 18, CIFAR-10 Batch 5:  Loss is:     0.6328 Validation accuracy: 0.648800\n",
      "Epoch 19, CIFAR-10 Batch 1:  Loss is:     0.6717 Validation accuracy: 0.640200\n",
      "Epoch 19, CIFAR-10 Batch 2:  Loss is:     0.6598 Validation accuracy: 0.648600\n",
      "Epoch 19, CIFAR-10 Batch 3:  Loss is:     0.6646 Validation accuracy: 0.639800\n",
      "Epoch 19, CIFAR-10 Batch 4:  Loss is:     0.6189 Validation accuracy: 0.651000\n",
      "Epoch 19, CIFAR-10 Batch 5:  Loss is:     0.6004 Validation accuracy: 0.657200\n",
      "Epoch 20, CIFAR-10 Batch 1:  Loss is:     0.7207 Validation accuracy: 0.619600\n",
      "Epoch 20, CIFAR-10 Batch 2:  Loss is:     0.6502 Validation accuracy: 0.643000\n",
      "Epoch 20, CIFAR-10 Batch 3:  Loss is:     0.6315 Validation accuracy: 0.647400\n",
      "Epoch 20, CIFAR-10 Batch 4:  Loss is:     0.5928 Validation accuracy: 0.661400\n",
      "Epoch 20, CIFAR-10 Batch 5:  Loss is:     0.5514 Validation accuracy: 0.657800\n",
      "Epoch 21, CIFAR-10 Batch 1:  Loss is:     0.6113 Validation accuracy: 0.649000\n",
      "Epoch 21, CIFAR-10 Batch 2:  Loss is:     0.6119 Validation accuracy: 0.657400\n",
      "Epoch 21, CIFAR-10 Batch 3:  Loss is:     0.5848 Validation accuracy: 0.653600\n",
      "Epoch 21, CIFAR-10 Batch 4:  Loss is:     0.5502 Validation accuracy: 0.661400\n",
      "Epoch 21, CIFAR-10 Batch 5:  Loss is:     0.5303 Validation accuracy: 0.666000\n",
      "Epoch 22, CIFAR-10 Batch 1:  Loss is:     0.5734 Validation accuracy: 0.650200\n",
      "Epoch 22, CIFAR-10 Batch 2:  Loss is:     0.6338 Validation accuracy: 0.635800\n",
      "Epoch 22, CIFAR-10 Batch 3:  Loss is:     0.5810 Validation accuracy: 0.651800\n",
      "Epoch 22, CIFAR-10 Batch 4:  Loss is:     0.5380 Validation accuracy: 0.660800\n",
      "Epoch 22, CIFAR-10 Batch 5:  Loss is:     0.4985 Validation accuracy: 0.661000\n",
      "Epoch 23, CIFAR-10 Batch 1:  Loss is:     0.5338 Validation accuracy: 0.657600\n",
      "Epoch 23, CIFAR-10 Batch 2:  Loss is:     0.6112 Validation accuracy: 0.630200\n",
      "Epoch 23, CIFAR-10 Batch 3:  Loss is:     0.5377 Validation accuracy: 0.665800\n",
      "Epoch 23, CIFAR-10 Batch 4:  Loss is:     0.4765 Validation accuracy: 0.666600\n",
      "Epoch 23, CIFAR-10 Batch 5:  Loss is:     0.4573 Validation accuracy: 0.660800\n",
      "Epoch 24, CIFAR-10 Batch 1:  Loss is:     0.5199 Validation accuracy: 0.666600\n",
      "Epoch 24, CIFAR-10 Batch 2:  Loss is:     0.5096 Validation accuracy: 0.666600\n",
      "Epoch 24, CIFAR-10 Batch 3:  Loss is:     0.4814 Validation accuracy: 0.671200\n",
      "Epoch 24, CIFAR-10 Batch 4:  Loss is:     0.4522 Validation accuracy: 0.671000\n",
      "Epoch 24, CIFAR-10 Batch 5:  Loss is:     0.4402 Validation accuracy: 0.666400\n",
      "Epoch 25, CIFAR-10 Batch 1:  Loss is:     0.4692 Validation accuracy: 0.671000\n",
      "Epoch 25, CIFAR-10 Batch 2:  Loss is:     0.4874 Validation accuracy: 0.670200\n",
      "Epoch 25, CIFAR-10 Batch 3:  Loss is:     0.4598 Validation accuracy: 0.665400\n",
      "Epoch 25, CIFAR-10 Batch 4:  Loss is:     0.4622 Validation accuracy: 0.658400\n",
      "Epoch 25, CIFAR-10 Batch 5:  Loss is:     0.4266 Validation accuracy: 0.657800\n",
      "Epoch 26, CIFAR-10 Batch 1:  Loss is:     0.4457 Validation accuracy: 0.666400\n",
      "Epoch 26, CIFAR-10 Batch 2:  Loss is:     0.4448 Validation accuracy: 0.672200\n",
      "Epoch 26, CIFAR-10 Batch 3:  Loss is:     0.4075 Validation accuracy: 0.680400\n",
      "Epoch 26, CIFAR-10 Batch 4:  Loss is:     0.4086 Validation accuracy: 0.667600\n",
      "Epoch 26, CIFAR-10 Batch 5:  Loss is:     0.3765 Validation accuracy: 0.674600\n",
      "Epoch 27, CIFAR-10 Batch 1:  Loss is:     0.4275 Validation accuracy: 0.674400\n",
      "Epoch 27, CIFAR-10 Batch 2:  Loss is:     0.4097 Validation accuracy: 0.673000\n",
      "Epoch 27, CIFAR-10 Batch 3:  Loss is:     0.3752 Validation accuracy: 0.678600\n",
      "Epoch 27, CIFAR-10 Batch 4:  Loss is:     0.3681 Validation accuracy: 0.672000\n",
      "Epoch 27, CIFAR-10 Batch 5:  Loss is:     0.3473 Validation accuracy: 0.669800\n",
      "Epoch 28, CIFAR-10 Batch 1:  Loss is:     0.4249 Validation accuracy: 0.667600\n",
      "Epoch 28, CIFAR-10 Batch 2:  Loss is:     0.3903 Validation accuracy: 0.668000\n",
      "Epoch 28, CIFAR-10 Batch 3:  Loss is:     0.3562 Validation accuracy: 0.679000\n",
      "Epoch 28, CIFAR-10 Batch 4:  Loss is:     0.3238 Validation accuracy: 0.680000\n",
      "Epoch 28, CIFAR-10 Batch 5:  Loss is:     0.3272 Validation accuracy: 0.673400\n",
      "Epoch 29, CIFAR-10 Batch 1:  Loss is:     0.4099 Validation accuracy: 0.661200\n",
      "Epoch 29, CIFAR-10 Batch 2:  Loss is:     0.3602 Validation accuracy: 0.675800\n",
      "Epoch 29, CIFAR-10 Batch 3:  Loss is:     0.3440 Validation accuracy: 0.680600\n",
      "Epoch 29, CIFAR-10 Batch 4:  Loss is:     0.3413 Validation accuracy: 0.670400\n",
      "Epoch 29, CIFAR-10 Batch 5:  Loss is:     0.2916 Validation accuracy: 0.681200\n",
      "Epoch 30, CIFAR-10 Batch 1:  Loss is:     0.3874 Validation accuracy: 0.666400\n",
      "Epoch 30, CIFAR-10 Batch 2:  Loss is:     0.3325 Validation accuracy: 0.680400\n",
      "Epoch 30, CIFAR-10 Batch 3:  Loss is:     0.3084 Validation accuracy: 0.689400\n",
      "Epoch 30, CIFAR-10 Batch 4:  Loss is:     0.3206 Validation accuracy: 0.672600\n",
      "Epoch 30, CIFAR-10 Batch 5:  Loss is:     0.2649 Validation accuracy: 0.684200\n",
      "Epoch 31, CIFAR-10 Batch 1:  Loss is:     0.3377 Validation accuracy: 0.670400\n",
      "Epoch 31, CIFAR-10 Batch 2:  Loss is:     0.3493 Validation accuracy: 0.662600\n",
      "Epoch 31, CIFAR-10 Batch 3:  Loss is:     0.2982 Validation accuracy: 0.689400\n",
      "Epoch 31, CIFAR-10 Batch 4:  Loss is:     0.2696 Validation accuracy: 0.676400\n",
      "Epoch 31, CIFAR-10 Batch 5:  Loss is:     0.2394 Validation accuracy: 0.682200\n",
      "Epoch 32, CIFAR-10 Batch 1:  Loss is:     0.3067 Validation accuracy: 0.672800\n",
      "Epoch 32, CIFAR-10 Batch 2:  Loss is:     0.2827 Validation accuracy: 0.673000\n",
      "Epoch 32, CIFAR-10 Batch 3:  Loss is:     0.2853 Validation accuracy: 0.678000\n",
      "Epoch 32, CIFAR-10 Batch 4:  Loss is:     0.2460 Validation accuracy: 0.679400\n",
      "Epoch 32, CIFAR-10 Batch 5:  Loss is:     0.2244 Validation accuracy: 0.678000\n",
      "Epoch 33, CIFAR-10 Batch 1:  Loss is:     0.2904 Validation accuracy: 0.671800\n",
      "Epoch 33, CIFAR-10 Batch 2:  Loss is:     0.2737 Validation accuracy: 0.673000\n",
      "Epoch 33, CIFAR-10 Batch 3:  Loss is:     0.3143 Validation accuracy: 0.674400\n",
      "Epoch 33, CIFAR-10 Batch 4:  Loss is:     0.2302 Validation accuracy: 0.676600\n",
      "Epoch 33, CIFAR-10 Batch 5:  Loss is:     0.2437 Validation accuracy: 0.666000\n",
      "Epoch 34, CIFAR-10 Batch 1:  Loss is:     0.2695 Validation accuracy: 0.673400\n",
      "Epoch 34, CIFAR-10 Batch 2:  Loss is:     0.2700 Validation accuracy: 0.675600\n",
      "Epoch 34, CIFAR-10 Batch 3:  Loss is:     0.2846 Validation accuracy: 0.677200\n",
      "Epoch 34, CIFAR-10 Batch 4:  Loss is:     0.2520 Validation accuracy: 0.682400\n",
      "Epoch 34, CIFAR-10 Batch 5:  Loss is:     0.2094 Validation accuracy: 0.685200\n",
      "Epoch 35, CIFAR-10 Batch 1:  Loss is:     0.2598 Validation accuracy: 0.685800\n",
      "Epoch 35, CIFAR-10 Batch 2:  Loss is:     0.2544 Validation accuracy: 0.679400\n",
      "Epoch 35, CIFAR-10 Batch 3:  Loss is:     0.2458 Validation accuracy: 0.670000\n",
      "Epoch 35, CIFAR-10 Batch 4:  Loss is:     0.1989 Validation accuracy: 0.683000\n",
      "Epoch 35, CIFAR-10 Batch 5:  Loss is:     0.1999 Validation accuracy: 0.671200\n",
      "Epoch 36, CIFAR-10 Batch 1:  Loss is:     0.2328 Validation accuracy: 0.676400\n",
      "Epoch 36, CIFAR-10 Batch 2:  Loss is:     0.2172 Validation accuracy: 0.686200\n",
      "Epoch 36, CIFAR-10 Batch 3:  Loss is:     0.2186 Validation accuracy: 0.671000\n",
      "Epoch 36, CIFAR-10 Batch 4:  Loss is:     0.1825 Validation accuracy: 0.691400\n",
      "Epoch 36, CIFAR-10 Batch 5:  Loss is:     0.1583 Validation accuracy: 0.683600\n",
      "Epoch 37, CIFAR-10 Batch 1:  Loss is:     0.2112 Validation accuracy: 0.681600\n",
      "Epoch 37, CIFAR-10 Batch 2:  Loss is:     0.1928 Validation accuracy: 0.681000\n",
      "Epoch 37, CIFAR-10 Batch 3:  Loss is:     0.2108 Validation accuracy: 0.664400\n",
      "Epoch 37, CIFAR-10 Batch 4:  Loss is:     0.1875 Validation accuracy: 0.684400\n",
      "Epoch 37, CIFAR-10 Batch 5:  Loss is:     0.1634 Validation accuracy: 0.673200\n",
      "Epoch 38, CIFAR-10 Batch 1:  Loss is:     0.1764 Validation accuracy: 0.691200\n",
      "Epoch 38, CIFAR-10 Batch 2:  Loss is:     0.1768 Validation accuracy: 0.679800\n",
      "Epoch 38, CIFAR-10 Batch 3:  Loss is:     0.1920 Validation accuracy: 0.671400\n",
      "Epoch 38, CIFAR-10 Batch 4:  Loss is:     0.1869 Validation accuracy: 0.679200\n",
      "Epoch 38, CIFAR-10 Batch 5:  Loss is:     0.1281 Validation accuracy: 0.685600\n",
      "Epoch 39, CIFAR-10 Batch 1:  Loss is:     0.1665 Validation accuracy: 0.689800\n",
      "Epoch 39, CIFAR-10 Batch 2:  Loss is:     0.2064 Validation accuracy: 0.657800\n",
      "Epoch 39, CIFAR-10 Batch 3:  Loss is:     0.1741 Validation accuracy: 0.681400\n",
      "Epoch 39, CIFAR-10 Batch 4:  Loss is:     0.1726 Validation accuracy: 0.676800\n",
      "Epoch 39, CIFAR-10 Batch 5:  Loss is:     0.1319 Validation accuracy: 0.684200\n",
      "Epoch 40, CIFAR-10 Batch 1:  Loss is:     0.1625 Validation accuracy: 0.685600\n",
      "Epoch 40, CIFAR-10 Batch 2:  Loss is:     0.1819 Validation accuracy: 0.665400\n",
      "Epoch 40, CIFAR-10 Batch 3:  Loss is:     0.2439 Validation accuracy: 0.655000\n",
      "Epoch 40, CIFAR-10 Batch 4:  Loss is:     0.1590 Validation accuracy: 0.684000\n",
      "Epoch 40, CIFAR-10 Batch 5:  Loss is:     0.1237 Validation accuracy: 0.674600\n"
     ]
    }
   ],
   "source": [
    "\"\"\"\n",
    "DON'T MODIFY ANYTHING IN THIS CELL\n",
    "\"\"\"\n",
    "save_model_path = './image_classification'\n",
    "\n",
    "print('Training...')\n",
    "with tf.Session() as sess:\n",
    "    # Initializing the variables\n",
    "    sess.run(tf.global_variables_initializer())\n",
    "    \n",
    "    # Training cycle\n",
    "    for epoch in range(epochs):\n",
    "        # Loop over all batches\n",
    "        n_batches = 5\n",
    "        for batch_i in range(1, n_batches + 1):\n",
    "            for batch_features, batch_labels in helper.load_preprocess_training_batch(batch_i, batch_size):\n",
    "                train_neural_network(sess, optimizer, keep_probability, batch_features, batch_labels)\n",
    "            print('Epoch {:>2}, CIFAR-10 Batch {}:  '.format(epoch + 1, batch_i), end='')\n",
    "            print_stats(sess, batch_features, batch_labels, cost, accuracy)\n",
    "            \n",
    "    # Save Model\n",
    "    saver = tf.train.Saver()\n",
    "    save_path = saver.save(sess, save_model_path)"
   ]
  },
  {
   "cell_type": "markdown",
   "metadata": {
    "deletable": true,
    "editable": true
   },
   "source": [
    "# Checkpoint\n",
    "The model has been saved to disk.\n",
    "## Test Model\n",
    "Test your model against the test dataset.  This will be your final accuracy. You should have an accuracy greater than 50%. If you don't, keep tweaking the model architecture and parameters."
   ]
  },
  {
   "cell_type": "code",
   "execution_count": 19,
   "metadata": {
    "collapsed": false,
    "deletable": true,
    "editable": true
   },
   "outputs": [
    {
     "name": "stdout",
     "output_type": "stream",
     "text": [
      "Testing Accuracy: 0.6818266766411918\n",
      "\n"
     ]
    },
    {
     "data": {
      "image/png": "[encoded data removed]",
      "text/plain": [
       "<matplotlib.figure.Figure at 0x7f3fe1bae390>"
      ]
     },
     "metadata": {
      "image/png": {
       "height": 319,
       "width": 355
      }
     },
     "output_type": "display_data"
    }
   ],
   "source": [
    "\"\"\"\n",
    "DON'T MODIFY ANYTHING IN THIS CELL\n",
    "\"\"\"\n",
    "%matplotlib inline\n",
    "%config InlineBackend.figure_format = 'retina'\n",
    "\n",
    "import tensorflow as tf\n",
    "import pickle\n",
    "import helper\n",
    "import random\n",
    "\n",
    "# Set batch size if not already set\n",
    "try:\n",
    "    if batch_size:\n",
    "        pass\n",
    "except NameError:\n",
    "    batch_size = 64\n",
    "\n",
    "save_model_path = './image_classification'\n",
    "n_samples = 4\n",
    "top_n_predictions = 3\n",
    "\n",
    "def test_model():\n",
    "    \"\"\"\n",
    "    Test the saved model against the test dataset\n",
    "    \"\"\"\n",
    "\n",
    "    test_features, test_labels = pickle.load(open('preprocess_training.p', mode='rb'))\n",
    "    loaded_graph = tf.Graph()\n",
    "\n",
    "    with tf.Session(graph=loaded_graph) as sess:\n",
    "        # Load model\n",
    "        loader = tf.train.import_meta_graph(save_model_path + '.meta')\n",
    "        loader.restore(sess, save_model_path)\n",
    "\n",
    "        # Get Tensors from loaded model\n",
    "        loaded_x = loaded_graph.get_tensor_by_name('x:0')\n",
    "        loaded_y = loaded_graph.get_tensor_by_name('y:0')\n",
    "        loaded_keep_prob = loaded_graph.get_tensor_by_name('keep_prob:0')\n",
    "        loaded_logits = loaded_graph.get_tensor_by_name('logits:0')\n",
    "        loaded_acc = loaded_graph.get_tensor_by_name('accuracy:0')\n",
    "        \n",
    "        # Get accuracy in batches for memory limitations\n",
    "        test_batch_acc_total = 0\n",
    "        test_batch_count = 0\n",
    "        \n",
    "        for train_feature_batch, train_label_batch in helper.batch_features_labels(test_features, test_labels, batch_size):\n",
    "            test_batch_acc_total += sess.run(\n",
    "                loaded_acc,\n",
    "                feed_dict={loaded_x: train_feature_batch, loaded_y: train_label_batch, loaded_keep_prob: 1.0})\n",
    "            test_batch_count += 1\n",
    "\n",
    "        print('Testing Accuracy: {}\\n'.format(test_batch_acc_total/test_batch_count))\n",
    "\n",
    "        # Print Random Samples\n",
    "        random_test_features, random_test_labels = tuple(zip(*random.sample(list(zip(test_features, test_labels)), n_samples)))\n",
    "        random_test_predictions = sess.run(\n",
    "            tf.nn.top_k(tf.nn.softmax(loaded_logits), top_n_predictions),\n",
    "            feed_dict={loaded_x: random_test_features, loaded_y: random_test_labels, loaded_keep_prob: 1.0})\n",
    "        helper.display_image_predictions(random_test_features, random_test_labels, random_test_predictions)\n",
    "\n",
    "\n",
    "test_model()"
   ]
  },
  {
   "cell_type": "markdown",
   "metadata": {
    "deletable": true,
    "editable": true
   },
   "source": [
    "## Why 50-80% Accuracy?\n",
    "You might be wondering why you can't get an accuracy any higher. First things first, 50% isn't bad for a simple CNN.  Pure guessing would get you 10% accuracy. However, you might notice people are getting scores [well above 80%](http://rodrigob.github.io/are_we_there_yet/build/classification_datasets_results.html#43494641522d3130).  That's because we haven't taught you all there is to know about neural networks. We still need to cover a few more techniques.\n",
    "## Submitting This Project\n",
    "When submitting this project, make sure to run all the cells before saving the notebook.  Save the notebook file as \"dlnd_image_classification.ipynb\" and save it as a HTML file under \"File\" -> \"Download as\".  Include the \"helper.py\" and \"problem_unittests.py\" files in your submission."
   ]
  }
 ],
 "metadata": {
  "kernelspec": {
   "display_name": "Python 3",
   "language": "python",
   "name": "python3"
  },
  "language_info": {
   "codemirror_mode": {
    "name": "ipython",
    "version": 3
   },
   "file_extension": ".py",
   "mimetype": "text/x-python",
   "name": "python",
   "nbconvert_exporter": "python",
   "pygments_lexer": "ipython3",
   "version": "3.5.3"
  }
 },
 "nbformat": 4,
 "nbformat_minor": 0
}
